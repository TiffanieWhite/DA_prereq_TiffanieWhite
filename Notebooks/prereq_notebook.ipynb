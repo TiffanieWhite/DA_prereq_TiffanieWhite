{
 "cells": [
  {
   "cell_type": "code",
   "execution_count": null,
   "id": "7e9acb04",
   "metadata": {
    "vscode": {
     "languageId": "plaintext"
    }
   },
   "outputs": [],
   "source": [
    "print(\"Hello World)"
   ]
  },
  {
   "cell_type": "markdown",
   "id": "c6f9aa30",
   "metadata": {},
   "source": [
    "<h1> Hello Everyone!! My name is Tiffanie White.\n",
    "<p1> Hello everyone and thank you for the opportunity to continue this life changing opportunity with Code You. I plan to learn any and everything I can (once I am able to discern what all that is) to make a better life for my boys and myself. I have three son's (two of them are asperger autistic). I work full time remotely from home with a pharmaceutical company. I don't have much down time, but currently I have been trying to spend as much time as I can over the phone or in person with my dad who went into the hospital almost three weeks ago with severe sepsis and necrotizing fascitis. I look forward to everything with Code You and hope to be in a much better place careerwise and family wise by this time next year. <p1>"
   ]
  }
 ],
 "metadata": {
  "language_info": {
   "name": "python"
  }
 },
 "nbformat": 4,
 "nbformat_minor": 5
}
